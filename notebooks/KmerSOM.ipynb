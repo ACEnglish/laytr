{
 "cells": [
  {
   "cell_type": "code",
   "execution_count": 1,
   "id": "761aca0f-3ad4-4b18-a6c5-01a5003059a9",
   "metadata": {},
   "outputs": [],
   "source": [
    "import joblib\n",
    "import pickle\n",
    "import minisom\n",
    "import laytr"
   ]
  },
  {
   "cell_type": "markdown",
   "id": "5bc5f6ea-474f-4ab9-ab02-4b14325c7232",
   "metadata": {},
   "source": [
    "First, we need to create a som"
   ]
  },
  {
   "cell_type": "code",
   "execution_count": 2,
   "id": "8b6581e3-674e-42b1-8623-4a6be1d7e88c",
   "metadata": {},
   "outputs": [
    {
     "name": "stdout",
     "output_type": "stream",
     "text": [
      " [ 10000 / 10000 ] 100% - 0:00:00 left \n",
      " quantization error: 0.10895308115856686\n"
     ]
    }
   ],
   "source": [
    "kfeats = joblib.load(\"../repo_utils/kfeat.jl\")\n",
    "som = minisom.MiniSom(15, 15, 64, sigma=1.5, learning_rate=1,\n",
    "                      topology='hexagonal',\n",
    "                      neighborhood_function='gaussian', \n",
    "                      activation_distance='euclidean',\n",
    "                      random_seed=2023\n",
    "                     )\n",
    "som.train_batch(kfeats, 10_000, verbose=True)\n",
    "with open('chr22_example.som', 'wb') as outfile:\n",
    "    pickle.dump(som, outfile)"
   ]
  },
  {
   "cell_type": "markdown",
   "id": "d0e0b8e3-0b86-4913-8934-b6d18fccdd09",
   "metadata": {},
   "source": [
    "Next, we map our data to the SOM. We can do this via the command line with `laytr map` or programmatically"
   ]
  },
  {
   "cell_type": "code",
   "execution_count": 4,
   "id": "dba698a1-6f71-4bc1-8fb3-e9e49198e8a1",
   "metadata": {},
   "outputs": [],
   "source": [
    "m_map = laytr.map_to_som(kfeats, som)"
   ]
  }
 ],
 "metadata": {
  "kernelspec": {
   "display_name": "Python 3 (ipykernel)",
   "language": "python",
   "name": "python3"
  },
  "language_info": {
   "codemirror_mode": {
    "name": "ipython",
    "version": 3
   },
   "file_extension": ".py",
   "mimetype": "text/x-python",
   "name": "python",
   "nbconvert_exporter": "python",
   "pygments_lexer": "ipython3",
   "version": "3.9.6"
  }
 },
 "nbformat": 4,
 "nbformat_minor": 5
}
